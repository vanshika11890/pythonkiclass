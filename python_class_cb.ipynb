{
  "nbformat": 4,
  "nbformat_minor": 0,
  "metadata": {
    "colab": {
      "provenance": [],
      "authorship_tag": "ABX9TyNqlEMdmN7VUUr3uDpSwcPv",
      "include_colab_link": true
    },
    "kernelspec": {
      "name": "python3",
      "display_name": "Python 3"
    },
    "language_info": {
      "name": "python"
    }
  },
  "cells": [
    {
      "cell_type": "markdown",
      "metadata": {
        "id": "view-in-github",
        "colab_type": "text"
      },
      "source": [
        "<a href=\"https://colab.research.google.com/github/vanshika11890/pythonkiclass/blob/main/python_class_cb.ipynb\" target=\"_parent\"><img src=\"https://colab.research.google.com/assets/colab-badge.svg\" alt=\"Open In Colab\"/></a>"
      ]
    },
    {
      "cell_type": "code",
      "source": [
        "print(\"hello my name is vanshika\") #first python code\n",
        "#variabe and data type\n",
        "first = 100\n",
        "second =200\n",
        "sum = first+second\n",
        "print(sum)\n",
        "print(\"this is sum of first and second\", sum)\n",
        "\n",
        "monthly_sal= 20000\n",
        "annual_sal= monthly_sal*12\n",
        "print(\"annual salary is\", annual_sal)\n",
        "\n",
        "#dynamic commands\n",
        "name = input(\"enter your name\")\n",
        "print(\"your name is\", name)\n",
        "\n",
        "num_1= int(input(\"enter first number\"))\n",
        "num_2= int(input(\"enter second number\"))\n",
        "sum= num_1+num_2\n",
        "print(\"sum is=\",sum)\n",
        "\n",
        "\n",
        "\n",
        "\n",
        "\n",
        "\n",
        "#2nd lecture\n",
        "\n",
        "# if weather is below 10= too cold, if weather is 11-20 = mild cold, weather is 21-30= mild hot\n",
        "\n",
        "temp= int(input(\"enter temperature\"))\n",
        "if temp<10:\n",
        "    print(\"too cold\")\n",
        "elif temp>=10 and temp<=20:\n",
        "     print(\"mildcold\")\n",
        "elif temp>=21 and temp<=30:\n",
        "     print(\"mildhot\")\n",
        "else:\n",
        "    print(\"too hot\")\n",
        "\n",
        "\n",
        "\n",
        "\n"
      ],
      "metadata": {
        "colab": {
          "base_uri": "https://localhost:8080/"
        },
        "id": "pR6Ud9xvc1Il",
        "outputId": "3af53e94-c1c3-4b5b-d1be-6f14782cd301"
      },
      "execution_count": null,
      "outputs": [
        {
          "output_type": "stream",
          "name": "stdout",
          "text": [
            "hello my name is vanshika\n",
            "300\n",
            "this is sum of first and second 300\n",
            "annual salary is 240000\n",
            "enter your namevan\n",
            "your name is van\n",
            "enter first number77\n",
            "enter second number99\n",
            "sum is= 176\n",
            "enter temperature19\n",
            "mildcold\n"
          ]
        }
      ]
    },
    {
      "cell_type": "code",
      "source": [
        "#another program\n",
        "#total bill above 1000= 10% dis, bill 500-1000=5% discount ,bill below 500 = 3% dis\n",
        "\n",
        "item_1= int(input(\"enter price of item 1=\"))\n",
        "item_2= int(input(\"enter price of item 2=\"))\n",
        "item_3= int(input(\"enter price of item 3=\"))\n",
        "total_bill= item_1+item_2+item_3\n",
        "\n",
        "if total_bill>1000:\n",
        "  discount= total_bill*10/100\n",
        "  print(\"the discount will be:\", total_bill *10/100)\n",
        "  net_bill= total_bill-discount\n",
        "  print(\"the net bill will be:\", net_bill)\n",
        "elif total_bill<=1000 and total_bill>=500:\n",
        "  discount= total_bill*5/100\n",
        "  print(\"the discount will be:\", total_bill *5/100)\n",
        "  net_bill=total_bill-discount\n",
        "  print(\"the net bill will be:\", net_bill)\n",
        "else:\n",
        "  discount= total_bill*3/100\n",
        "  print(\"the discount will be:\", total_bill *3/100)\n",
        "net_bill=total_bill-discount\n",
        "print(\"the net bill will be:\", net_bill)\n",
        "\n",
        "\n"
      ],
      "metadata": {
        "colab": {
          "base_uri": "https://localhost:8080/"
        },
        "id": "8TrgtGl_hwPi",
        "outputId": "b3af7ec7-078c-4079-bad7-cdc4cca3661d"
      },
      "execution_count": null,
      "outputs": [
        {
          "output_type": "stream",
          "name": "stdout",
          "text": [
            "enter price of item 1=10\n",
            "enter price of item 2=20\n",
            "enter price of item 3=40\n",
            "the discount will be: 2.1\n",
            "the net bill will be: 67.9\n"
          ]
        }
      ]
    },
    {
      "cell_type": "code",
      "source": [],
      "metadata": {
        "id": "xDqplKeT-hk0"
      },
      "execution_count": null,
      "outputs": []
    },
    {
      "cell_type": "code",
      "source": [
        "#checking if positive,negative or 0\n",
        "\n",
        "number=int(input(\"enter number here\"))\n",
        "if number >0:\n",
        "    print(\"number is positive\")\n",
        "elif number <0:\n",
        "     print(\"number is negative\")\n",
        "else:\n",
        "      print(\"number is zero\")\n",
        "\n",
        "\n",
        "\n",
        "\n"
      ],
      "metadata": {
        "id": "IpweExE8dwja",
        "colab": {
          "base_uri": "https://localhost:8080/"
        },
        "outputId": "5500dd0e-76eb-4471-dea9-16192bb7ee08"
      },
      "execution_count": null,
      "outputs": [
        {
          "output_type": "stream",
          "name": "stdout",
          "text": [
            "enter number here+8\n",
            "number is positive\n"
          ]
        }
      ]
    },
    {
      "cell_type": "code",
      "source": [],
      "metadata": {
        "id": "TsArPZlft58t"
      },
      "execution_count": null,
      "outputs": []
    },
    {
      "cell_type": "markdown",
      "source": [
        "# New Section"
      ],
      "metadata": {
        "id": "sze5dgLhuBuw"
      }
    },
    {
      "cell_type": "markdown",
      "source": [
        "# New Section"
      ],
      "metadata": {
        "id": "rNqYkUXmuCYo"
      }
    },
    {
      "cell_type": "code",
      "source": [
        "#calculating the bill\n",
        "\n",
        "units=int(input(\"enter units consumed\"))\n",
        "if units<=100:\n",
        "   bill = units*5\n",
        "   print(\"the bill will be:\", bill)\n",
        "elif units>=101 and units<=200:\n",
        "    bill = units*7\n",
        "    print(\"the bill will be:\", bill)\n",
        "else:\n",
        "    bill = units*10\n",
        "    print(\"the bill will be:\", bill)"
      ],
      "metadata": {
        "id": "Eb90Tn3tcdUE",
        "colab": {
          "base_uri": "https://localhost:8080/"
        },
        "outputId": "8215170e-6626-4637-b8ce-432b4d417cda"
      },
      "execution_count": null,
      "outputs": [
        {
          "output_type": "stream",
          "name": "stdout",
          "text": [
            "enter units consumed200\n",
            "the bill will be: 1400\n"
          ]
        }
      ]
    },
    {
      "cell_type": "code",
      "source": [
        "correct_username = \"admin\"\n",
        "correct_password = \"1234\"\n",
        "\n",
        "\n",
        "username= input(\"enter username=\")\n",
        "password= input(\"enter password=\")\n",
        "\n",
        "if username==correct_username and password==correct_password:\n",
        "    print(\"login succesfully\")\n",
        "elif username!=correct_username:\n",
        "    print(\"invallid username\")\n",
        "elif password!=correct_password:\n",
        "    print(\"invalid password\")\n",
        "else:\n",
        "    print(\"login failed\")"
      ],
      "metadata": {
        "colab": {
          "base_uri": "https://localhost:8080/"
        },
        "id": "VgZDbvEXWa97",
        "outputId": "9320b747-ecd0-4dcf-e18a-bd1739878f1f"
      },
      "execution_count": null,
      "outputs": [
        {
          "output_type": "stream",
          "name": "stdout",
          "text": [
            "enter username=admin\n",
            "enter password=3452\n",
            "invalid password\n"
          ]
        }
      ]
    },
    {
      "cell_type": "code",
      "source": [
        "num= int(input(\"enter number\"))\n",
        "\n",
        "if num%2 == 0:\n",
        "  print (\"number is even\")\n",
        "else:\n",
        "  print(\"numbern is odd\")"
      ],
      "metadata": {
        "colab": {
          "base_uri": "https://localhost:8080/"
        },
        "id": "Z_BpiDFpZm8E",
        "outputId": "34c55504-eaf3-4618-c42e-8095f93c3884"
      },
      "execution_count": null,
      "outputs": [
        {
          "output_type": "stream",
          "name": "stdout",
          "text": [
            "enter number89\n",
            "number is odd\n"
          ]
        }
      ]
    },
    {
      "cell_type": "code",
      "source": [
        "\n",
        "#lecture 3 loops\n",
        "#for loops:\n",
        "\n",
        "lists = (\"frerien\",\"attack on titan\",\"demon slayer\",\"noragami\",\"fruit basket\")\n",
        " #print[lists(2)] #we use this for a specific word display\n",
        "\n",
        "\n",
        "for anime in lists: #here the variable anime is temporaray,we can change it.\n",
        "    print(anime)\n",
        "\n"
      ],
      "metadata": {
        "id": "GPDjKtUe-kMX",
        "colab": {
          "base_uri": "https://localhost:8080/"
        },
        "outputId": "799d241c-d5d4-4c90-daba-95dc35c13d9c"
      },
      "execution_count": null,
      "outputs": [
        {
          "output_type": "stream",
          "name": "stdout",
          "text": [
            "frerien\n",
            "attack on titan\n",
            "demon slayer\n",
            "noragami\n",
            "fruit basket\n"
          ]
        }
      ]
    },
    {
      "cell_type": "code",
      "source": [
        "# loop in range\n",
        "\n",
        "for x in range(11):\n",
        "    print (x)"
      ],
      "metadata": {
        "colab": {
          "base_uri": "https://localhost:8080/"
        },
        "id": "RrxJLEQ3wRfX",
        "outputId": "94824c76-3c97-401d-dc8a-8881e2341f3d"
      },
      "execution_count": null,
      "outputs": [
        {
          "output_type": "stream",
          "name": "stdout",
          "text": [
            "0\n",
            "1\n",
            "2\n",
            "3\n",
            "4\n",
            "5\n",
            "6\n",
            "7\n",
            "8\n",
            "9\n",
            "10\n"
          ]
        }
      ]
    },
    {
      "cell_type": "code",
      "source": [
        "#while in loops:\n",
        "\n",
        "i = 10\n",
        "while i<=20:\n",
        "      print(i)\n",
        "      i+=1"
      ],
      "metadata": {
        "colab": {
          "base_uri": "https://localhost:8080/"
        },
        "id": "UjS3XZBJzBMt",
        "outputId": "fa977844-d9b4-4e78-ad9a-cd696c17d5fb"
      },
      "execution_count": null,
      "outputs": [
        {
          "output_type": "stream",
          "name": "stdout",
          "text": [
            "10\n",
            "11\n",
            "12\n",
            "13\n",
            "14\n",
            "15\n",
            "16\n",
            "17\n",
            "18\n",
            "19\n",
            "20\n"
          ]
        }
      ]
    },
    {
      "cell_type": "code",
      "source": [
        "#break : ye humare code ko break lga deta hai jaha tak mention ho\n",
        "for i in range(30):\n",
        " if i==25:\n",
        "  break\n",
        "  print(i)"
      ],
      "metadata": {
        "id": "l_Ynp_r_5we4"
      },
      "execution_count": null,
      "outputs": []
    },
    {
      "cell_type": "code",
      "source": [
        "print(\"welcome to the website\")"
      ],
      "metadata": {
        "colab": {
          "base_uri": "https://localhost:8080/"
        },
        "id": "4ir100ec8QQD",
        "outputId": "f1b34435-16ed-45ab-9aa5-3a714c18e7f0"
      },
      "execution_count": null,
      "outputs": [
        {
          "output_type": "stream",
          "name": "stdout",
          "text": [
            "welcome to the website\n"
          ]
        }
      ]
    },
    {
      "cell_type": "code",
      "source": [
        "#break : ye humare code ko break lga deta hai jaha tak mention ho\n",
        "for i in range(30):\n",
        " if i==25:\n",
        "    break\n",
        " print(i)"
      ],
      "metadata": {
        "colab": {
          "base_uri": "https://localhost:8080/"
        },
        "id": "GkqgCyXB8ZGE",
        "outputId": "c5457ac2-1dd6-44f0-d4d3-c8313a80c0fe"
      },
      "execution_count": null,
      "outputs": [
        {
          "output_type": "stream",
          "name": "stdout",
          "text": [
            "0\n",
            "1\n",
            "2\n",
            "3\n",
            "4\n",
            "5\n",
            "6\n",
            "7\n",
            "8\n",
            "9\n",
            "10\n",
            "11\n",
            "12\n",
            "13\n",
            "14\n",
            "15\n",
            "16\n",
            "17\n",
            "18\n",
            "19\n",
            "20\n",
            "21\n",
            "22\n",
            "23\n",
            "24\n"
          ]
        }
      ]
    },
    {
      "cell_type": "code",
      "source": [
        "#continue\n",
        "\n",
        "for i in range (20):\n",
        "     if i==15:\n",
        "        continue\n",
        "     print(i)"
      ],
      "metadata": {
        "colab": {
          "base_uri": "https://localhost:8080/"
        },
        "id": "PrV8uJjy9lE1",
        "outputId": "a872d3d8-fef4-4d67-f1cb-3ded0bb742ff"
      },
      "execution_count": null,
      "outputs": [
        {
          "output_type": "stream",
          "name": "stdout",
          "text": [
            "0\n",
            "1\n",
            "2\n",
            "3\n",
            "4\n",
            "5\n",
            "6\n",
            "7\n",
            "8\n",
            "9\n",
            "10\n",
            "11\n",
            "12\n",
            "13\n",
            "14\n",
            "16\n",
            "17\n",
            "18\n",
            "19\n"
          ]
        }
      ]
    },
    {
      "cell_type": "code",
      "source": [
        "for x in range (1,11): #range loop from 1 to 10\n",
        "  print(x)"
      ],
      "metadata": {
        "colab": {
          "base_uri": "https://localhost:8080/"
        },
        "id": "fVex-c-xMSG9",
        "outputId": "de38bf33-3515-4d95-bbb4-42818d1e9114"
      },
      "execution_count": null,
      "outputs": [
        {
          "output_type": "stream",
          "name": "stdout",
          "text": [
            "1\n",
            "2\n",
            "3\n",
            "4\n",
            "5\n",
            "6\n",
            "7\n",
            "8\n",
            "9\n",
            "10\n"
          ]
        }
      ]
    },
    {
      "cell_type": "code",
      "source": [
        "i = 1    #even numbers from 1 to 50\n",
        "while i<=51:\n",
        "  if i%2==0:\n",
        "    print(i)\n",
        "  i+=1\n",
        "\n"
      ],
      "metadata": {
        "colab": {
          "base_uri": "https://localhost:8080/"
        },
        "id": "8-2ISnM1EExt",
        "outputId": "1d4c46e2-57a5-4014-b3e7-e5ee822e18db"
      },
      "execution_count": null,
      "outputs": [
        {
          "output_type": "stream",
          "name": "stdout",
          "text": [
            "2\n",
            "4\n",
            "6\n",
            "8\n",
            "10\n",
            "12\n",
            "14\n",
            "16\n",
            "18\n",
            "20\n",
            "22\n",
            "24\n",
            "26\n",
            "28\n",
            "30\n",
            "32\n",
            "34\n",
            "36\n",
            "38\n",
            "40\n",
            "42\n",
            "44\n",
            "46\n",
            "48\n",
            "50\n"
          ]
        }
      ]
    },
    {
      "cell_type": "code",
      "source": [
        "task=int(input(\"enter number\"))\n",
        "for i in range (1,11):\n",
        "    mul=task*i\n",
        "    print(mul)"
      ],
      "metadata": {
        "colab": {
          "base_uri": "https://localhost:8080/"
        },
        "id": "VEOUKQAvGD4s",
        "outputId": "799d865b-9a5c-4538-8721-0f7f5fcccd7e"
      },
      "execution_count": null,
      "outputs": [
        {
          "output_type": "stream",
          "name": "stdout",
          "text": [
            "enter number2\n",
            "2\n",
            "4\n",
            "6\n",
            "8\n",
            "10\n",
            "12\n",
            "14\n",
            "16\n",
            "18\n",
            "20\n"
          ]
        }
      ]
    },
    {
      "cell_type": "code",
      "source": [
        "task_2=int(input(\"enter number:\"))\n",
        "i= 1\n",
        "sum= task_2+i\n",
        "print(sum)"
      ],
      "metadata": {
        "colab": {
          "base_uri": "https://localhost:8080/"
        },
        "id": "Z195PTZnJIny",
        "outputId": "3b5e2343-7111-49df-860c-e7308f4b4e11"
      },
      "execution_count": null,
      "outputs": [
        {
          "output_type": "stream",
          "name": "stdout",
          "text": [
            "enter number:4\n",
            "5\n"
          ]
        }
      ]
    },
    {
      "cell_type": "code",
      "source": [
        "for name in \"vanshika\":\n",
        "  print(name)"
      ],
      "metadata": {
        "colab": {
          "base_uri": "https://localhost:8080/"
        },
        "id": "7D1RUzdcKmb-",
        "outputId": "968d8f05-667f-4e40-bf9d-0f7658efa626"
      },
      "execution_count": null,
      "outputs": [
        {
          "output_type": "stream",
          "name": "stdout",
          "text": [
            "v\n",
            "a\n",
            "n\n",
            "s\n",
            "h\n",
            "i\n",
            "k\n",
            "a\n"
          ]
        }
      ]
    },
    {
      "cell_type": "code",
      "source": [
        "for x in range(10,1, -1):\n",
        "     print(x)\n",
        "\n"
      ],
      "metadata": {
        "id": "QBQrFmX9LRE8",
        "colab": {
          "base_uri": "https://localhost:8080/"
        },
        "outputId": "f4d87443-5814-402e-fdd0-937aabdf871b"
      },
      "execution_count": null,
      "outputs": [
        {
          "output_type": "stream",
          "name": "stdout",
          "text": [
            "10\n",
            "9\n",
            "8\n",
            "7\n",
            "6\n",
            "5\n",
            "4\n",
            "3\n",
            "2\n"
          ]
        }
      ]
    },
    {
      "cell_type": "code",
      "source": [
        "# num=int(input(\"enter your number:\"))\n",
        "# result = 1\n",
        "# for i in range(1,num+1):\n",
        "#     result*=i\n",
        "\n",
        "# print(result)\n",
        "\n",
        "\n",
        "\n",
        "\n",
        "num=int(input(\"enter your number:\"))\n",
        "result=1\n",
        "for i in range(1,num+1):\n",
        "  result*=i\n",
        "  print(result)"
      ],
      "metadata": {
        "id": "fuQaw51IL7Ex",
        "colab": {
          "base_uri": "https://localhost:8080/"
        },
        "outputId": "805e6789-9d39-4268-ee8b-5a279341673c"
      },
      "execution_count": null,
      "outputs": [
        {
          "output_type": "stream",
          "name": "stdout",
          "text": [
            "enter your number:8\n",
            "1\n",
            "2\n",
            "6\n",
            "24\n",
            "120\n",
            "720\n",
            "5040\n",
            "40320\n"
          ]
        }
      ]
    },
    {
      "cell_type": "code",
      "source": [
        "num=int(input(\"enter your number:\"))\n",
        "result=1\n",
        "for i in range(1,num+1):\n",
        "  result+=i\n",
        "  print(result)"
      ],
      "metadata": {
        "colab": {
          "base_uri": "https://localhost:8080/"
        },
        "id": "OuBSDmsUVvfp",
        "outputId": "b6aeae7f-1070-4672-c962-77f236348cee"
      },
      "execution_count": null,
      "outputs": [
        {
          "output_type": "stream",
          "name": "stdout",
          "text": [
            "enter your number:5\n",
            "2\n",
            "4\n",
            "7\n",
            "11\n",
            "16\n"
          ]
        }
      ]
    },
    {
      "cell_type": "code",
      "source": [
        "\n",
        "#DATA STRUCTURE CONSISTS OF\n",
        "#LIST\n",
        "#tuples\n",
        "#set\n",
        "#dictonries\n",
        "\n",
        "\n",
        "\n",
        "#list nd tuples\n",
        "\n",
        "#list USED TO STORE COLLECTION OF ITEMS\n",
        "\n",
        "#CREATIN LIST\n",
        "languages=['japanese','german','french','english','spanish','chinese'] #LISTS ARE MUTABLE(i.e we can change,modify,add,remove)\n",
        "\n",
        "#acesss list\n",
        "print(languages[5])\n",
        "\n",
        "#modify elements\n",
        "languages[2]='mandrin'\n",
        "print(languages)\n",
        "\n",
        "#adding new element (APPEND)\n",
        "\n",
        "languages.append('itlain')\n",
        "print(languages)\n",
        "\n",
        "#removing any element (REMOVE)\n",
        "\n",
        "\n",
        "\n",
        "\n"
      ],
      "metadata": {
        "colab": {
          "base_uri": "https://localhost:8080/"
        },
        "id": "-0dp5e8huXCd",
        "outputId": "a97da1ba-ddbf-449e-f3b3-518a74840db2"
      },
      "execution_count": null,
      "outputs": [
        {
          "output_type": "stream",
          "name": "stdout",
          "text": [
            "chinese\n",
            "['japanese', 'german', 'mandrin', 'english', 'spanish', 'chinese']\n",
            "['japanese', 'german', 'mandrin', 'english', 'spanish', 'chinese', 'itlain']\n"
          ]
        }
      ]
    },
    {
      "cell_type": "code",
      "source": [
        "#TUPLES : like list but immutable\n",
        "\n",
        "colors=('red','dark blue','yellow') #tum yaha content cange nahi kar sakte\n",
        "print(colors[2])\n"
      ],
      "metadata": {
        "colab": {
          "base_uri": "https://localhost:8080/"
        },
        "id": "mBAWMOAjwQiW",
        "outputId": "35a832bf-f921-44e7-cefe-1fa4a6467d34"
      },
      "execution_count": null,
      "outputs": [
        {
          "output_type": "stream",
          "name": "stdout",
          "text": [
            "yellow\n"
          ]
        }
      ]
    },
    {
      "cell_type": "code",
      "source": [
        "#SET: collection of unordered items , immutable, no duplicates allowed bhaisahab, no indesing allowed\n",
        "\n",
        "my_set = {1,2,3,4,5,6,7}\n",
        "print(my_set)"
      ],
      "metadata": {
        "colab": {
          "base_uri": "https://localhost:8080/"
        },
        "id": "8cMVMe9F4jc5",
        "outputId": "5365103e-d24a-4de9-8a54-a53c396def67"
      },
      "execution_count": null,
      "outputs": [
        {
          "output_type": "stream",
          "name": "stdout",
          "text": [
            "{1, 2, 3, 4, 5, 6, 7}\n"
          ]
        }
      ]
    },
    {
      "cell_type": "code",
      "source": [
        "#SET OPERATIONS\n",
        "\n",
        "a={1,2,3,4}\n",
        "b={3,4,5,6}\n",
        "\n",
        "#union\n",
        "print(a.union(b))  # print(a|b)\n",
        "\n",
        "#intersection\n",
        "print(a.intersection(b)) #print(a&b)\n",
        "\n",
        "#difference\n",
        "print(a-b)\n"
      ],
      "metadata": {
        "colab": {
          "base_uri": "https://localhost:8080/"
        },
        "id": "J-LcLTpF5i0e",
        "outputId": "fd802162-277f-4544-9885-06968d024740"
      },
      "execution_count": null,
      "outputs": [
        {
          "output_type": "stream",
          "name": "stdout",
          "text": [
            "{1, 2, 3, 4, 5, 6}\n",
            "{3, 4}\n",
            "{1, 2}\n"
          ]
        }
      ]
    },
    {
      "cell_type": "code",
      "source": [
        "#DICTIONARIES (KEYS AND VALUES KA PAIR) KEYS ARE UNIQUE AND IMMUTABLE\n",
        "\n",
        "my_dict= {\n",
        "           \"name\" : \"avanshika\",\n",
        "           \"age\" : 20,\n",
        "           \"city\" : \"delhi\"\n",
        "}\n",
        "print(my_dict[\"age\"])\n",
        "\n",
        "#add or update items\n",
        "\n",
        "my_dict[\"age\"]= 30\n",
        "print(my_dict)\n",
        "\n",
        "\n"
      ],
      "metadata": {
        "colab": {
          "base_uri": "https://localhost:8080/"
        },
        "id": "TErQESXu88na",
        "outputId": "43a1aed0-870f-48a0-eadc-058bebf478cc"
      },
      "execution_count": null,
      "outputs": [
        {
          "output_type": "stream",
          "name": "stdout",
          "text": [
            "20\n",
            "{'name': 'avanshika', 'age': 30, 'city': 'delhi'}\n"
          ]
        }
      ]
    },
    {
      "cell_type": "code",
      "source": [
        "#function and modules\n",
        "\n",
        "\n",
        "\n",
        "#it is a reuseable blockof code that performs specific tasks\n",
        "#function woh hotahai that has its: name()\n",
        "\n",
        "#USER DEFINED FUNCTION\n",
        "\n",
        "def greetbot(name):\n",
        "  print(f\"HELLO ITS GREAT TO SEE YOU {name}\")\n",
        "\n",
        "# Example of how to call the function:\n",
        "greetbot(\"Alice\")"
      ],
      "metadata": {
        "id": "9X-8Ou6NBZ-x",
        "colab": {
          "base_uri": "https://localhost:8080/"
        },
        "outputId": "3897d03e-13c1-4420-c1f5-3109163fb440"
      },
      "execution_count": null,
      "outputs": [
        {
          "output_type": "stream",
          "name": "stdout",
          "text": [
            "HELLO ITS GREAT TO SEE YOU Alice\n"
          ]
        }
      ]
    },
    {
      "cell_type": "code",
      "source": [
        "#FUNCTION WITHH RETURN VALUE\n",
        "\n",
        "def add(a,b):\n",
        "  return a+b\n",
        "sum = add(10,20)   #FUNCTION KO CALL KARNA\n",
        "print(sum)"
      ],
      "metadata": {
        "colab": {
          "base_uri": "https://localhost:8080/"
        },
        "id": "kwR8zbxD8JNG",
        "outputId": "0083498a-d67d-4d23-a35e-0ae91ab9eee2"
      },
      "execution_count": null,
      "outputs": [
        {
          "output_type": "stream",
          "name": "stdout",
          "text": [
            "30\n"
          ]
        }
      ]
    },
    {
      "cell_type": "code",
      "source": [
        "#FUNCTION WITH DEFAULT PARAMETER\n",
        "\n",
        "def greet(name= \"dear user\"):\n",
        "  print(f\"HELLO {name}\")\n",
        "\n",
        "greet(\"tamako san\")\n"
      ],
      "metadata": {
        "colab": {
          "base_uri": "https://localhost:8080/"
        },
        "id": "0CDfbrGs9FfV",
        "outputId": "a5969b5b-3afc-4244-8c20-83f9b0963d9d"
      },
      "execution_count": null,
      "outputs": [
        {
          "output_type": "stream",
          "name": "stdout",
          "text": [
            "HELLO tamako san\n"
          ]
        }
      ]
    },
    {
      "cell_type": "code",
      "source": [
        "def num_check(number):\n",
        " if number % 2 == 0:\n",
        "  print(\"NUMBER IS EVEN\")\n",
        " else:\n",
        "  print(\"NUMBER IS ODD\")\n",
        "\n",
        "num_check(10)"
      ],
      "metadata": {
        "id": "jLIHROQHGw4L",
        "colab": {
          "base_uri": "https://localhost:8080/"
        },
        "outputId": "a2817c1c-b063-4508-be32-085bfb87a553"
      },
      "execution_count": null,
      "outputs": [
        {
          "output_type": "stream",
          "name": "stdout",
          "text": [
            "NUMBER IS EVEN\n"
          ]
        }
      ]
    },
    {
      "cell_type": "code",
      "source": [
        "def factorial(num):\n",
        "  result = 1\n",
        "  for i  in range(1, num+1):\n",
        "   result *= i\n",
        "  return result\n",
        "\n",
        "factorial(4)"
      ],
      "metadata": {
        "colab": {
          "base_uri": "https://localhost:8080/"
        },
        "id": "B0IwPyw1LSi3",
        "outputId": "0b6e5623-d68d-4daa-8fa0-1d55557ce7b4"
      },
      "execution_count": null,
      "outputs": [
        {
          "output_type": "execute_result",
          "data": {
            "text/plain": [
              "24"
            ]
          },
          "metadata": {},
          "execution_count": 61
        }
      ]
    },
    {
      "cell_type": "code",
      "source": [
        "def greet(name=\"user\"):\n",
        " print(f\"welcome {name} glad to see you here again!\")\n",
        "\n",
        "greet(\"vanshika\")\n",
        "\n",
        "\n",
        "\n",
        "\n"
      ],
      "metadata": {
        "colab": {
          "base_uri": "https://localhost:8080/"
        },
        "id": "Y737xSNnO7oQ",
        "outputId": "e2941eee-3961-4d94-df06-a74166469681"
      },
      "execution_count": null,
      "outputs": [
        {
          "output_type": "stream",
          "name": "stdout",
          "text": [
            "welcome vanshika glad to see you here again!\n"
          ]
        }
      ]
    },
    {
      "cell_type": "code",
      "source": [],
      "metadata": {
        "id": "v474nP9QQbWG"
      },
      "execution_count": null,
      "outputs": []
    },
    {
      "cell_type": "code",
      "source": [
        "#checking if number is odd or even\n",
        "\n",
        "def num_check(number):\n",
        "  if number % 2 == 0:\n",
        "   print(\"number is even,yipeee!!!!\")\n",
        "  else:\n",
        "   print(\"number you have given is odd, what the hell:(\")\n",
        "\n",
        "\n",
        "maths= num_check(25)\n"
      ],
      "metadata": {
        "colab": {
          "base_uri": "https://localhost:8080/"
        },
        "id": "ulAWYT2t-Ry8",
        "outputId": "dba468bf-3e2c-453c-ae5b-eac83ba4a139"
      },
      "execution_count": null,
      "outputs": [
        {
          "output_type": "stream",
          "name": "stdout",
          "text": [
            "number you have given is odd, what the hell:(\n"
          ]
        }
      ]
    },
    {
      "cell_type": "code",
      "source": [
        "#factorial of a number\n",
        "\n",
        "def facto(num):\n",
        " result=1\n",
        " for i in range(1,num+1):\n",
        "  result*= i\n",
        " return result\n",
        "\n",
        "maths= facto(5)\n",
        "print (maths)\n",
        "\n",
        "\n"
      ],
      "metadata": {
        "colab": {
          "base_uri": "https://localhost:8080/"
        },
        "id": "84YOy0Oy_hcd",
        "outputId": "41a0825c-dcf4-4929-fe4f-ea5478eeac37"
      },
      "execution_count": null,
      "outputs": [
        {
          "output_type": "stream",
          "name": "stdout",
          "text": [
            "120\n"
          ]
        }
      ]
    },
    {
      "cell_type": "code",
      "source": [
        "#greeting your user\n",
        "\n",
        "def greeting(name=\"DEAR USER\"):\n",
        "  print(f\"WE ARE GLAD TO SEE YOU BACK HERE {name}\")\n",
        "\n",
        "\n",
        "greeting( \"vanshika\")"
      ],
      "metadata": {
        "colab": {
          "base_uri": "https://localhost:8080/"
        },
        "id": "RoqTW0raDB8o",
        "outputId": "abc68c6a-0fbc-4fa2-f560-6361d0a9ae25"
      },
      "execution_count": null,
      "outputs": [
        {
          "output_type": "stream",
          "name": "stdout",
          "text": [
            "WE ARE GLAD TO SEE YOU BACK HERE vanshika\n"
          ]
        }
      ]
    },
    {
      "cell_type": "code",
      "source": [
        "def bigger(a,b,c):\n",
        "  if a>b and a>c:\n",
        "   return a\n",
        "  elif b>a and b>c:\n",
        "   return b\n",
        "  else:\n",
        "   return c\n",
        "\n",
        "bigger(10,20,30)\n"
      ],
      "metadata": {
        "id": "oZifCsVLD3Wp",
        "outputId": "21352d1e-4c15-440c-8917-65415f801243",
        "colab": {
          "base_uri": "https://localhost:8080/"
        }
      },
      "execution_count": null,
      "outputs": [
        {
          "output_type": "execute_result",
          "data": {
            "text/plain": [
              "30"
            ]
          },
          "metadata": {},
          "execution_count": 65
        }
      ]
    },
    {
      "cell_type": "code",
      "source": [
        "#creating a userdefined function\n",
        "\n",
        "\n",
        "# ques = input(\"What is capital of India\")\n",
        "# if ques == \"delhi\":\n",
        "#      print(\"your answer is correct\")\n",
        "# else :\n",
        "#      print(\"your answer is wrong\")\n",
        "\n",
        "\n",
        "#(converting this into user defined function)\n",
        "\n",
        "def quiz(ques):\n",
        "  if ques == \"delhi\":\n",
        "   print(\"your answer is correct\")\n",
        "  else :\n",
        "   print(\"your answer is wrong\")\n",
        "\n",
        "QUE = input(\"What is capital of India\")\n",
        "quiz(QUE)\n",
        "\n",
        "\n",
        "\n",
        "\n",
        "\n",
        "\n"
      ],
      "metadata": {
        "colab": {
          "base_uri": "https://localhost:8080/"
        },
        "id": "EwnUdJVpPYi8",
        "outputId": "921b9d75-37f3-4e74-8c59-cb80eeb3a679"
      },
      "execution_count": null,
      "outputs": [
        {
          "output_type": "stream",
          "name": "stdout",
          "text": [
            "What is capital of IndiaDelhi\n",
            "your answer is wrong\n"
          ]
        }
      ]
    },
    {
      "cell_type": "code",
      "source": [
        "#making a calculator\n",
        "\n",
        " def add(a,b):\n",
        " return a+b\n",
        "\n",
        "def mul(a,b):\n",
        "  return a*b\n",
        "\n",
        "def sub(a,b):\n",
        "  return a-b\n",
        "\n",
        "def div(a,b):\n",
        "  return a/b\n",
        "\n",
        "val_1 = int(input(\"enter your number\"))\n",
        "val_2 = int(input(\"enter your number\"))\n",
        "operation = input(\"enter your operation\")\n",
        "\n",
        "if operation == \"+\":\n",
        "  print(add(val_1,val_2))\n",
        "\n",
        "elif operation == \"_\":\n",
        "  print(sub(val_1,val_2))\n",
        "\n",
        "elif operation == \"*\":\n",
        "  print(mul(val_1,val_2))\n",
        "\n",
        "elif operation == \"/\":\n",
        "  print(div(val_1,val_2))\n",
        "\n",
        "else:\n",
        "  print(\"invalid operation\")"
      ],
      "metadata": {
        "id": "RE3jB_PXSAq4",
        "colab": {
          "base_uri": "https://localhost:8080/"
        },
        "outputId": "792dd88b-6f5c-4895-9a5a-2fc2a1b7489c"
      },
      "execution_count": null,
      "outputs": [
        {
          "output_type": "stream",
          "name": "stdout",
          "text": [
            "enter your number80\n",
            "enter your number40\n",
            "enter your operation/\n",
            "2.0\n"
          ]
        }
      ]
    },
    {
      "cell_type": "code",
      "source": [
        "\n",
        "#modules\n",
        "\n",
        "#user defined modules\n",
        "\n",
        "%%writefile vanam.py\n",
        "\n",
        "\n",
        "def greet(name):\n",
        "  print(f\"HELLO {name}\")\n",
        "\n",
        "def sum(a,b):\n",
        "  return a+b\n",
        "  print(f\"the sum is {sum}\")\n",
        "\n",
        "def mul(a,b):\n",
        "  return a*b\n",
        "  print(f\"the multiplication is {mul}\")\n",
        "\n",
        "def num_check(number):\n",
        " if number % 2 == 0:\n",
        "  print(\"NUMBER IS EVEN\")\n",
        " else:\n",
        "  print(\"NUMBER IS ODD\")\n",
        "\n",
        "\n",
        "\n",
        "\n",
        "\n",
        "\n"
      ],
      "metadata": {
        "colab": {
          "base_uri": "https://localhost:8080/"
        },
        "id": "xMYd0M0ZUItv",
        "outputId": "cd0283e6-e05b-4f9b-adc9-d4464623f55c"
      },
      "execution_count": null,
      "outputs": [
        {
          "output_type": "stream",
          "name": "stdout",
          "text": [
            "Overwriting vanam.py\n"
          ]
        }
      ]
    },
    {
      "cell_type": "code",
      "source": [
        "import vanam\n",
        "\n",
        "print(vanam.greet(\"pooja mam\"))\n",
        "print(vanam.sum(2,9))\n",
        "print(vanam.mul(2,9))\n",
        "print(vanam.num_check(10))"
      ],
      "metadata": {
        "colab": {
          "base_uri": "https://localhost:8080/"
        },
        "id": "PTHqkf_IU4LH",
        "outputId": "5ca624d9-b8a4-42fc-b4a4-31053c7ab24b"
      },
      "execution_count": null,
      "outputs": [
        {
          "output_type": "stream",
          "name": "stdout",
          "text": [
            "HELLO pooja mam\n",
            "None\n",
            "11\n",
            "18\n",
            "NUMBER IS EVEN\n",
            "None\n"
          ]
        }
      ]
    },
    {
      "cell_type": "code",
      "source": [
        "#grading system\n",
        "\n",
        "marks= int(input(\"enter your marks\"))  #enter students number value\n",
        "if marks >= 60 :  # if student scored between the range of 60 - 100 it'll give 1st\n",
        "      print(\"1st division\")\n",
        "      if marks >= 90:\n",
        "        print(\"topper\")\n",
        "      elif marks >=75 and marks<90 :\n",
        "        print(\"distinct\")\n",
        "      elif marks <75 and marks >= 60 :\n",
        "        print(\"very good\")\n",
        "\n",
        "elif marks <60 and marks >=45:  #  if student scored between the range of  45 -60 it'll give 2nd\n",
        "      print (\" 2nd division\")\n",
        "      if marks >=45 and  marks <50:\n",
        "         print(\"improver\")\n",
        "      elif marks >=50 and marks <59:\n",
        "          print(\"learner\")\n",
        "\n",
        "elif marks >=35 and marks <45 :  # if student scored between the range of  35 - 45 it'll give 3rd\n",
        "      print(\"3rd division\")\n",
        "\n",
        "else:\n",
        "     print(\"fail\")"
      ],
      "metadata": {
        "id": "okQYMg5OqNNR",
        "colab": {
          "base_uri": "https://localhost:8080/"
        },
        "outputId": "acec7b48-ef29-4185-d57c-cd76884e563c"
      },
      "execution_count": null,
      "outputs": [
        {
          "output_type": "stream",
          "name": "stdout",
          "text": [
            "enter your marks46\n",
            " 2nd division\n",
            "improver\n"
          ]
        }
      ]
    },
    {
      "cell_type": "code",
      "source": [
        "gender = input(\"enter your gender here:\")\n",
        "age = int(input(\"enter your age here:\"))\n",
        "if gender ==(\"male\") and age <=30 :\n",
        "   print(\"you are assinged block A building A\")\n",
        "elif gender ==(\"male\") and age >30 :\n",
        "   print(\"you are assigned block A building B\")\n",
        "elif gender ==(\"female\") and age <=30 :\n",
        "   print(\"you are assigned block B building A\")\n",
        "else:\n",
        "   print(\"you are assigned block B building B\")staff divison\n",
        " ''' we have been given the task to divide the workforce appropriately according to their age and gender.\n",
        " THERE ARE 2 BLOCKS IN THE HOTEL AND THESE 2 BLOCKS HAVE THEIR RESPECTIVE 2 BUILDINGS IN THEM\n",
        " BLOCK A = FOR MALES\n",
        "  BLOCK B = FOR FEMALES'''\n",
        "\n",
        "\n",
        "\n",
        "\n"
      ],
      "metadata": {
        "id": "I3nsadUMQQZ2",
        "colab": {
          "base_uri": "https://localhost:8080/"
        },
        "outputId": "89d45958-1b4d-446e-ce76-c44596e81d08"
      },
      "execution_count": null,
      "outputs": [
        {
          "output_type": "stream",
          "name": "stdout",
          "text": [
            "enter your gender here:female\n",
            "enter your age here:90\n",
            "you are assigned block B building B\n"
          ]
        }
      ]
    },
    {
      "cell_type": "code",
      "source": [
        "gender = input(\" Please enter your gender here:\")\n",
        "\n",
        "if gender ==(\"male\"):\n",
        "    print(\"Please head towards blockA\")\n",
        "    age = int(input(\"Please enter your age here:\"))\n",
        "    if age <=30 :\n",
        "        print(\"you are assinged blockA building A\")\n",
        "    elif age >30 :\n",
        "        print(\"you are assinged blockA building B\")\n",
        "elif gender ==(\"female\"):\n",
        "    print(\"Please head towards blockB\")\n",
        "    age = int(input(\"Please enter your age here:\"))\n",
        "    if age <=30 :\n",
        "        print(\"you are assigned blockB building A\")\n",
        "    elif age >30 :\n",
        "        print(\"you are assigned blockB building B\")\n",
        "else:\n",
        "    print(\"Enter valid input!\")"
      ],
      "metadata": {
        "id": "sqaXkE_gKW2Y",
        "colab": {
          "base_uri": "https://localhost:8080/"
        },
        "outputId": "7edbe666-1f3e-4e15-8041-4485c7fdd153"
      },
      "execution_count": null,
      "outputs": [
        {
          "output_type": "stream",
          "name": "stdout",
          "text": [
            " Please enter your gender here:female\n",
            "Please head towards blockB\n",
            "Please enter your age here:80\n",
            "you are assigned blockB building B\n"
          ]
        }
      ]
    },
    {
      "cell_type": "code",
      "source": [
        "''' receipt of a person who ordered at a restauraunt'''\n",
        "\n",
        "burger=float(input(\"enter price of burger:\"))  #price of burger is 100\n",
        "pizza=float(input(\"enter price of pizza:\")) #price of pizza is 350\n",
        "pasta=float(input(\"enter price of pasta:\")) # price of pasta is 250\n",
        "sandwich=float(input(\"enter price of sandwich:\")) #price of sandwich is 250\n",
        "total=burger+pizza+pasta+sandwich\n",
        "print(f\"TOTAL PRICE:₹{total}\")\n",
        "if total >=500: #if the order value a above or equal to 500, cutomer would get 20% off\n",
        "   print(f\"you are eligible for 20% discount : ₹{discount}\")\n",
        "   discount = total*20/100  # if the order value was below 500 and upto 100, customer would get 10% off\n",
        "   bill = total - discount\n",
        "   print(f\"AMOUNT PAYBLE IS:₹{bill}\")\n",
        "elif total >=100 and total <500:\n",
        "   print(f\"you are eligible for 10% discount :₹{discount} \")\n",
        "   discount = total*10/100\n",
        "   bill = total - discount\n",
        "   print(f\"AMOUNT PAYBLE IS:₹{bill}\")\n",
        "else:\n",
        "   print(f\"you are not eligible for any discount and amount payable is:{total}\")"
      ],
      "metadata": {
        "colab": {
          "base_uri": "https://localhost:8080/"
        },
        "id": "pS0zbzPnIeaj",
        "outputId": "c0e5e33b-b0e8-4158-fa65-3023ab9acd77"
      },
      "execution_count": null,
      "outputs": [
        {
          "output_type": "stream",
          "name": "stdout",
          "text": [
            "enter price of burger:100\n",
            "enter price of pizza:100\n",
            "enter price of pasta:100\n",
            "enter price of sandwich:100\n",
            "TOTAL PRICE:₹400.0\n",
            "you are eligible for 10% discount :220.0 \n",
            "AMOUNT PAYBLE IS:₹360.0\n"
          ]
        }
      ]
    },
    {
      "cell_type": "code",
      "source": [
        " value_1 = int(input(\"enter principal value :\"))\n",
        " value_2 = int(input(\"enter rate value :\"))\n",
        " value_3 = int(input(\"enter time value :\"))\n",
        " simple_interest =(value_1 * value_2 * value_3)/100\n",
        " print(f\"simple interest: {simple_interest}\")\n",
        " amount_payable = value_1 + simple_interest\n",
        " print(f\"your amount to be payble is : {amount_payable}\")\n",
        "\n",
        "\n",
        "\n",
        "\n",
        "\n"
      ],
      "metadata": {
        "colab": {
          "base_uri": "https://localhost:8080/"
        },
        "id": "7feOZAhOb3RZ",
        "outputId": "acea090d-1e5b-4a8f-f364-bbe362c38980"
      },
      "execution_count": null,
      "outputs": [
        {
          "output_type": "stream",
          "name": "stdout",
          "text": [
            "enter principal value :6000\n",
            "enter rate value :10\n",
            "enter time value :6\n",
            "simple interest: 3600.0\n",
            "your amount to be payble is : 9600.0\n"
          ]
        }
      ]
    },
    {
      "cell_type": "code",
      "source": [
        "#amazon bill generating\n",
        "\n",
        "item_1 = 5000                                             #for watch whos price is 5000 but discounted price is 4000\n",
        "print(\"price of watch is\", item_1)\n",
        "print(\"today's discount on watch is 20% : \",(item_1*20/100))\n",
        "discount = item_1 * 20/100\n",
        "watch = item_1 - discount\n",
        "print(\"watch :\", watch)\n",
        "\n",
        "\n",
        "item_2 = 50000                                           #for laptop whos price is 50000 but discounted price  is 35000\n",
        "print(\"price of laptop is\", item_2)\n",
        "print(\"today's discount on laptop is 30% : \",(item_2*30/100))\n",
        "discount = item_2 * 30/100\n",
        "laptop = item_2 - discount\n",
        "print(\"laptop :\",laptop)\n",
        "\n",
        "item_3 = 1000                                           #for mouse whos price is 1000 but discounted price is 950\n",
        "print(\"price of mouse is\",item_3)\n",
        "print(\"today's discount on mouse is 5% :\", (item_3*5/100))\n",
        "discount = item_3* 5/100\n",
        "mouse = item_3 - discount\n",
        "print(\"mouse :\", mouse)\n",
        "\n",
        "total = watch+laptop+mouse                               #total amount to be paid before discount\n",
        "print(\"total amount to be paid is\", total)\n",
        "\n",
        "code = input(\"ENTER COUPON CODE HERE :\")                 #coupon code VAN111\n",
        "\n",
        "if code == \"VAN111\":\n",
        "   print(\"you are eligible for 10% discount\")\n",
        "   discount = total * 10/100  # Calculate discount only if code is correct\n",
        "   bill = total - discount\n",
        "   print(\"your bill is\", bill)\n",
        "else:\n",
        "   print(\"coupon code does not exist\")\n",
        "   print(\"your bill is\", total) # No discount applied"
      ],
      "metadata": {
        "colab": {
          "base_uri": "https://localhost:8080/"
        },
        "id": "XIDZFFb5E-vT",
        "outputId": "98816f24-9169-4117-9a3c-0e51a17283e2"
      },
      "execution_count": null,
      "outputs": [
        {
          "output_type": "stream",
          "name": "stdout",
          "text": [
            "price of watch is 5000\n",
            "today's discount on watch is 20% :  1000.0\n",
            "watch : 4000.0\n",
            "price of laptop is 50000\n",
            "today's discount on laptop is 30% :  15000.0\n",
            "laptop : 35000.0\n",
            "price of mouse is 1000\n",
            "today's discount on mouse is 5% : 50.0\n",
            "mouse : 950.0\n",
            "total amount to be paid is 39950.0\n",
            "ENTER COUPON CODE HERE :VAN111\n",
            "you are eligible for 10% discount\n",
            "your bill is 35955.0\n"
          ]
        }
      ]
    }
  ]
}